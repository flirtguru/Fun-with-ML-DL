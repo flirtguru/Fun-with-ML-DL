{
 "cells": [
  {
   "cell_type": "code",
   "execution_count": 25,
   "metadata": {},
   "outputs": [
    {
     "name": "stdout",
     "output_type": "stream",
     "text": [
      "import successful\n"
     ]
    }
   ],
   "source": [
    "import tweepy #For Accessing Twitter API\n",
    "from textblob import TextBlob #For Sentiment Analysis\n",
    "\n",
    "print(\"import successful\")\n"
   ]
  },
  {
   "cell_type": "code",
   "execution_count": null,
   "metadata": {},
   "outputs": [],
   "source": []
  },
  {
   "cell_type": "code",
   "execution_count": 105,
   "metadata": {},
   "outputs": [
    {
     "data": {
      "text/plain": [
       "<matplotlib.text.Text at 0x7f7246918908>"
      ]
     },
     "execution_count": 105,
     "metadata": {},
     "output_type": "execute_result"
    },
    {
     "data": {
      "image/png": "[encoded data removed]",
      "text/plain": [
       "<matplotlib.figure.Figure at 0x7f7246b6b550>"
      ]
     },
     "metadata": {},
     "output_type": "display_data"
    }
   ],
   "source": [
    "import matplotlib.pyplot as plt\n",
    "%matplotlib inline\n",
    "consumer_key='fMhYJO0Bfr3kva7JTkTOhfK56'\n",
    "consumer_secret='c9PhyRa9c5etm3FsFnLUO5ir32bdiJZxPvaYPi86dJgnWsrIY5'\n",
    "api='114122108-PEES3D1WOeoj21j6ATNQKwkYy68jqcycSorS4pmN'\n",
    "api_secret='reqqTuwh7OoI6nI16pCEEE6ngN7w1APOYtM0Nr2mi14Tn'\n",
    "auth=tweepy.OAuthHandler(consumer_key,consumer_secret)\n",
    "auth.set_access_token(api,api_secret)\n",
    "api=tweepy.API(auth)\n",
    "x1={1:[],2:[],3:[],4:[],5:[]}\n",
    "y1={1:[],2:[],3:[],4:[],5:[]}\n",
    "\n",
    "\n",
    "\n",
    "topics={'Terrorist','Elon Musk','Sex','Dog','Apple'}\n",
    "for x ,top in enumerate (topics):\n",
    "    tweets=api.search(x)\n",
    "   \n",
    "    for t in tweets:\n",
    "              \n",
    "              analysis=TextBlob(t.text)\n",
    "              y=analysis.sentiment[0]\n",
    "              x1[x+1].append(x)\n",
    "              y1[x+1].append(y)\n",
    "              \n",
    "                \n",
    "for g in x1:\n",
    "    \n",
    "    plt.plot(x1[g],y1[g],color=(g*g*g*g/627,g*g*g/129,g*g*g/320))\n",
    "    plt.ylabel('Range of Sentiments')\n",
    "    \n",
    "    \n",
    "plt.xlabel(topics)"
   ]
  },
  {
   "cell_type": "code",
   "execution_count": null,
   "metadata": {},
   "outputs": [],
   "source": []
  },
  {
   "cell_type": "code",
   "execution_count": null,
   "metadata": {},
   "outputs": [],
   "source": []
  }
 ],
 "metadata": {
  "kernelspec": {
   "display_name": "Python 3",
   "language": "python",
   "name": "python3"
  },
  "language_info": {
   "codemirror_mode": {
    "name": "ipython",
    "version": 3
   },
   "file_extension": ".py",
   "mimetype": "text/x-python",
   "name": "python",
   "nbconvert_exporter": "python",
   "pygments_lexer": "ipython3",
   "version": "3.6.2"
  }
 },
 "nbformat": 4,
 "nbformat_minor": 2
}
